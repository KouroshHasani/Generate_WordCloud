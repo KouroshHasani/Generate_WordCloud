{
 "cells": [
  {
   "cell_type": "code",
   "execution_count": 26,
   "id": "77162bd3-6b18-482e-8546-2a9b1a06de3c",
   "metadata": {},
   "outputs": [],
   "source": [
    "from wordcloud import WordCloud\n",
    "import sys\n",
    "import pandas as pd\n",
    "from src import DATA_DIR\n",
    "import numpy as np\n",
    "from PIL import Image\n",
    "from scipy.ndimage import gaussian_gradient_magnitude\n",
    "import os"
   ]
  },
  {
   "cell_type": "code",
   "execution_count": 27,
   "id": "a2fc7147-5038-4a7c-857c-154ac06c7b03",
   "metadata": {},
   "outputs": [],
   "source": [
    "def generate_by_dict(data_path, mask_path, output_name):\n",
    "    df = pd.read_csv(data_path)\n",
    "    word_dict = {df.iloc[i, 0]:df.iloc[i, 1] for i in range(len(df))}\n",
    "    \n",
    "    parrot_color = np.array(Image.open(mask_path))\n",
    "    parrot_color = parrot_color[::3, ::3]\n",
    "\n",
    "    parrot_mask = parrot_color.copy()\n",
    "    parrot_mask[parrot_mask.sum(axis=2) == 0] = 255\n",
    "\n",
    "    edges = np.mean([gaussian_gradient_magnitude(parrot_color[:, :, i] / 255., 2) for i in range(3)], axis=0)\n",
    "    parrot_mask[edges > .08] = 255\n",
    "    \n",
    "    \n",
    "    # Generate_word_cloud_from_text\n",
    "    if not mask_path:\n",
    "        wc = WordCloud(\n",
    "            width=670,\n",
    "            height=670,\n",
    "            background_color='rgba(0,0,0,0)',\n",
    "                font_path=str(DATA_DIR / 'data/font/Estedad-Regular.ttf'),\n",
    "            max_font_size=150,\n",
    "            max_words=1000,\n",
    "            regexp=r\"\\w[\\w'\\\\s]+\",\n",
    "        ).generate_from_frequencies(word_dict)\n",
    "        \n",
    "    else:\n",
    "        wc = WordCloud(\n",
    "            mask=parrot_mask,\n",
    "            width=670,\n",
    "            height=670,\n",
    "            background_color='rgba(0,0,0,0)',\n",
    "            font_path=str(DATA_DIR / 'data/font/Estedad-Regular.ttf'),\n",
    "            max_font_size=150,\n",
    "            max_words=1000,\n",
    "            regexp=r\"\\w[\\w'\\\\s]+\",\n",
    "        ).generate_from_frequencies(word_dict)\n",
    "\n",
    "\n",
    "    with open(output_name, 'w') as f:\n",
    "        f.write(wc.to_svg())"
   ]
  },
  {
   "cell_type": "code",
   "execution_count": 33,
   "id": "c3191628-bbc9-4149-9c60-46eb7a042c8e",
   "metadata": {},
   "outputs": [],
   "source": [
    "generate_by_dict(\n",
    "    DATA_DIR / 'data/data2.csv',\n",
    "    DATA_DIR / 'data/mask/02.png',\n",
    "    DATA_DIR / 'output/pic2.svg'\n",
    ")"
   ]
  },
  {
   "cell_type": "code",
   "execution_count": null,
   "id": "452884fd-77b6-4c25-97e1-f5875ba0b8e6",
   "metadata": {},
   "outputs": [],
   "source": []
  }
 ],
 "metadata": {
  "kernelspec": {
   "display_name": "Python 3 (ipykernel)",
   "language": "python",
   "name": "python3"
  },
  "language_info": {
   "codemirror_mode": {
    "name": "ipython",
    "version": 3
   },
   "file_extension": ".py",
   "mimetype": "text/x-python",
   "name": "python",
   "nbconvert_exporter": "python",
   "pygments_lexer": "ipython3",
   "version": "3.8.13"
  }
 },
 "nbformat": 4,
 "nbformat_minor": 5
}
